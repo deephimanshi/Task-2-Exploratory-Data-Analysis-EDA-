{
 "cells": [
  {
   "cell_type": "markdown",
   "id": "7a757124",
   "metadata": {},
   "source": [
    "# Titanic Dataset - Exploratory Data Analysis (EDA)\n",
    "\n",
    "Steps included:\n",
    "1. Load dataset & quick look\n",
    "2. Handle missing values & duplicates\n",
    "3. Univariate analysis (numeric + categorical)\n",
    "4. Bivariate analysis (features vs survival)\n",
    "5. Correlation & pairwise relationships\n",
    "6. Outlier detection\n",
    "7. Feature engineering (FamilySize, Title, Age imputation)\n",
    "8. Multicollinearity check (VIF)\n",
    "9. Summary of findings\n",
    "\n"
   ]
  },
  {
   "cell_type": "code",
   "execution_count": null,
   "id": "9391ad4e",
   "metadata": {},
   "outputs": [],
   "source": [
    "import pandas as pd\n",
    "import numpy as np\n",
    "import matplotlib.pyplot as plt\n",
    "import seaborn as sns\n",
    "import missingno as msno\n",
    "import plotly.express as px\n",
    "from statsmodels.stats.outliers_influence import variance_inflation_factor\n",
    "\n",
    "# Display settings\n",
    "pd.set_option('display.max_columns', None)\n",
    "sns.set(style=\"whitegrid\")\n"
   ]
  },
  {
   "cell_type": "code",
   "execution_count": null,
   "id": "3beb95fd",
   "metadata": {},
   "outputs": [],
   "source": [
    "# Load dataset (ensure titanic.csv is in data/ folder)\n",
    "df = pd.read_csv('data/titanic.csv')\n",
    "print(df.shape)\n",
    "df.head()\n"
   ]
  },
  {
   "cell_type": "code",
   "execution_count": null,
   "id": "51d7ee96",
   "metadata": {},
   "outputs": [],
   "source": [
    "# Info and summary stats\n",
    "df.info()\n",
    "df.describe(include='all').T"
   ]
  },
  {
   "cell_type": "code",
   "execution_count": null,
   "id": "192afe31",
   "metadata": {},
   "outputs": [],
   "source": [
    "# Missing values & duplicates\n",
    "print(\"Duplicates:\", df.duplicated().sum())\n",
    "\n",
    "missing = df.isnull().mean().sort_values(ascending=False)*100\n",
    "print(missing[missing > 0])\n",
    "\n",
    "# Visualize missingness\n",
    "msno.matrix(df)\n"
   ]
  },
  {
   "cell_type": "code",
   "execution_count": null,
   "id": "ea8c68e7",
   "metadata": {},
   "outputs": [],
   "source": [
    "# Univariate numeric analysis\n",
    "num_cols = df.select_dtypes(include=['int64','float64']).columns.tolist()\n",
    "df[num_cols].hist(figsize=(12,10))\n",
    "plt.tight_layout()\n",
    "plt.show()\n",
    "\n",
    "# Boxplots\n",
    "for col in ['Age','Fare']:\n",
    "    plt.figure(figsize=(6,3))\n",
    "    sns.boxplot(x=df[col].dropna())\n",
    "    plt.title(col)\n",
    "    plt.show()\n",
    "\n",
    "# Skewness\n",
    "df[num_cols].skew().sort_values(ascending=False)\n"
   ]
  },
  {
   "cell_type": "code",
   "execution_count": null,
   "id": "8311464b",
   "metadata": {},
   "outputs": [],
   "source": [
    "# Univariate categorical analysis\n",
    "cat_cols = ['Sex','Pclass','Embarked']\n",
    "for c in cat_cols:\n",
    "    plt.figure(figsize=(6,3))\n",
    "    sns.countplot(data=df, x=c, order=sorted(df[c].dropna().unique()))\n",
    "    plt.title(c)\n",
    "    plt.show()\n",
    "\n",
    "# Survival percent by category\n",
    "for c in cat_cols:\n",
    "    print(c)\n",
    "    print(pd.crosstab(df[c], df['Survived'], margins=False, normalize='index')*100)\n",
    "    print()\n"
   ]
  },
  {
   "cell_type": "code",
   "execution_count": null,
   "id": "965aa0c9",
   "metadata": {},
   "outputs": [],
   "source": [
    "# Bivariate analysis: target vs features\n",
    "\n",
    "# Age vs survival\n",
    "plt.figure(figsize=(8,4))\n",
    "sns.boxplot(x='Survived', y='Age', data=df)\n",
    "plt.title('Age vs Survived')\n",
    "plt.show()\n",
    "\n",
    "# Survival by class and sex\n",
    "plt.figure(figsize=(8,4))\n",
    "sns.barplot(x='Pclass', y='Survived', hue='Sex', data=df)\n",
    "plt.title('Survival by class and sex')\n",
    "plt.show()\n"
   ]
  },
  {
   "cell_type": "code",
   "execution_count": null,
   "id": "0e32042e",
   "metadata": {},
   "outputs": [],
   "source": [
    "# Correlation matrix\n",
    "num_cols = ['Age','Fare','SibSp','Parch']\n",
    "corr = df[num_cols + ['Survived']].corr()\n",
    "plt.figure(figsize=(6,4))\n",
    "sns.heatmap(corr, annot=True, fmt=\".2f\", cmap='coolwarm')\n",
    "plt.title('Correlation matrix')\n",
    "plt.show()\n",
    "\n",
    "# Pairplot (subset only)\n",
    "sns.pairplot(df[['Age','Fare','Pclass','Survived']].dropna(), hue='Survived', diag_kind='hist')\n"
   ]
  },
  {
   "cell_type": "code",
   "execution_count": null,
   "id": "c24e40ee",
   "metadata": {},
   "outputs": [],
   "source": [
    "# Outlier detection with IQR\n",
    "def iqr_outliers(series):\n",
    "    q1, q3 = series.quantile([0.25, 0.75])\n",
    "    iqr = q3 - q1\n",
    "    lower, upper = q1 - 1.5*iqr, q3 + 1.5*iqr\n",
    "    return ~series.between(lower, upper)\n",
    "\n",
    "outliers_fare = iqr_outliers(df['Fare'].dropna())\n",
    "df.loc[outliers_fare, 'Fare'].describe()\n"
   ]
  },
  {
   "cell_type": "code",
   "execution_count": null,
   "id": "d4bff0b7",
   "metadata": {},
   "outputs": [],
   "source": [
    "# Feature engineering\n",
    "\n",
    "# Family size\n",
    "df['FamilySize'] = df['SibSp'] + df['Parch'] + 1\n",
    "\n",
    "# Extract Title from Name\n",
    "df['Title'] = df['Name'].str.extract(r',\\s*([^\\.]+)\\.', expand=False)\n",
    "df['Title'] = df['Title'].str.strip()\n",
    "df['Title'].value_counts().head()\n",
    "\n",
    "# Age imputation by Title median\n",
    "df['Age'] = df.groupby('Title')['Age'].apply(lambda x: x.fillna(x.median()))\n",
    "df['Age'] = df['Age'].fillna(df['Age'].median())\n"
   ]
  },
  {
   "cell_type": "code",
   "execution_count": null,
   "id": "7fe661ac",
   "metadata": {},
   "outputs": [],
   "source": [
    "# Multicollinearity check (VIF)\n",
    "X = pd.get_dummies(df[['Pclass','Age','Fare','FamilySize']], drop_first=True).dropna()\n",
    "vif = pd.DataFrame()\n",
    "vif['feature'] = X.columns\n",
    "vif['VIF'] = [variance_inflation_factor(X.values, i) for i in range(X.shape[1])]\n",
    "vif\n"
   ]
  }
 ],
 "metadata": {
  "language_info": {
   "name": "python"
  }
 },
 "nbformat": 4,
 "nbformat_minor": 5
}
